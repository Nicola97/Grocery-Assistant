{
 "cells": [
  {
   "cell_type": "markdown",
   "metadata": {},
   "source": [
    "# Esselunga online shop scraping\n",
    "\n",
    "Product names, prices per unit and prices per kg/liter, nutritional information.\n",
    "\n",
    "Purpose: help calculating price and convenience of meals and diets, for example knowing which are the cheapest products per gram of protein (€/grams of protein) or per calories (€/cal)."
   ]
  },
  {
   "cell_type": "markdown",
   "metadata": {},
   "source": [
    "## Initial data scraping\n",
    "\n",
    "The initial scraping has been done manually, just going to every category of the online shop and launching a JS script to get to the bottom of the infinite scroll. This triggers all the xhr requests. Then, the JSON responses for every category have been saved to `*.har` files by right-clicking and selecting _\"Save All As HAR\"_.\n",
    "\n",
    "### JS autoscroll code\n",
    "\n",
    "from https://www.quora.com/Is-there-a-way-to-automatically-load-a-page-with-infinite-scroll-until-it-gets-to-the-bottom-of-the-feed-Is-there-a-software-or-a-setting-that-helps-to-do-this\n",
    "\n",
    "```var lastScrollHeight = 0;\n",
    "function autoScroll() {\n",
    "  var sh = document.documentElement.scrollHeight;\n",
    "  if (sh != lastScrollHeight) {\n",
    "    lastScrollHeight = sh;\n",
    "    document.documentElement.scrollTop = sh;\n",
    "  }\n",
    "}\n",
    "window.setInterval(autoScroll, 100);```\n",
    "\n",
    "## Parse responses"
   ]
  },
  {
   "cell_type": "code",
   "execution_count": 1,
   "metadata": {},
   "outputs": [],
   "source": [
    "import re, os, json\n",
    "\n",
    "def label_to_price_per_kg(label):\n",
    "    regex = r'Euro (\\d+,\\d+) \\/ ([a-z]+)'\n",
    "    match = re.match(regex, label)\n",
    "    \n",
    "    if not match:\n",
    "        return None\n",
    "    \n",
    "    groups = list(match.groups())\n",
    "    price_per_kg = float(groups[0].replace(',', '.'))\n",
    "    \n",
    "    # Adjust price per kg if necessary\n",
    "    if groups[1] == 'g' or groups[1] == 'ml':\n",
    "        price_per_kg *= 1000\n",
    "    elif groups[1] == 'hg':\n",
    "        price_per_kg *= 10\n",
    "    elif groups[1] == 'pz':\n",
    "        price_per_kg = None\n",
    "    \n",
    "    return price_per_kg\n",
    "\n",
    "def parse_har(har_filename):\n",
    "    # Parse har as json\n",
    "    with open('har/{}'.format(har_filename)) as f:\n",
    "        js = json.loads(f.read())\n",
    "    \n",
    "    # Iterate over responses and get all the entities\n",
    "    entities = []\n",
    "    for entry in js['log']['entries']:\n",
    "        response = json.loads(entry['response']['content']['text'])\n",
    "        entities.extend(response['entities'])\n",
    "        \n",
    "    for entity in entities:\n",
    "        # Strip description\n",
    "        entity['description'] = entity['description'].strip()\n",
    "        \n",
    "        # Calculate price per kg by parsing the label\n",
    "        entity['price_per_kg'] = label_to_price_per_kg(entity['label'])\n",
    "        \n",
    "        # Add qty\n",
    "        entity['qty'] = ' '.join([entity['unitValue'], entity['unitText']])\n",
    "        \n",
    "        # Add category\n",
    "        entity['category'] = har_filename[:-4]\n",
    "        \n",
    "    # Only keep products with price per kg\n",
    "    entities = list(filter(lambda entity: entity['price_per_kg'], entities))\n",
    "    \n",
    "    # Keep only interesting keys\n",
    "    keys_to_keep = ['description', 'category', 'price', 'qty', 'price_per_kg']\n",
    "    \n",
    "    # Create dictionary with product id as key\n",
    "    entities = { entity['id'] : { k: entity[k] for k in keys_to_keep } for entity in entities }\n",
    "    \n",
    "    return entities"
   ]
  },
  {
   "cell_type": "markdown",
   "metadata": {},
   "source": [
    "## Build database from HARs"
   ]
  },
  {
   "cell_type": "code",
   "execution_count": 2,
   "metadata": {},
   "outputs": [],
   "source": [
    "import pandas as pd\n",
    "\n",
    "entities = {}\n",
    "for har_filename in next(os.walk('har'))[2]:\n",
    "    entities.update(parse_har(har_filename))"
   ]
  },
  {
   "cell_type": "markdown",
   "metadata": {},
   "source": [
    "## Scrape nutrition facts from IDs\n",
    "\n",
    "The `nutrition_facts` dictionary has the same keys as `entities`.\n",
    "If the value is `repeat`, it means the request has failed for some reason and needs to be repeated.\n",
    "Otherwise, if the response has status code 200 OK, the value would be the text of the response.\n",
    "Initially, the dictionary is created by copying `entities` and setting all the keys to `repeat`.\n",
    "\n",
    "This is done so that the data can be scraped in multiple passes without losing intermediate results, because after about half of the request I noticed my IP address has been 'banned' and every request ended in timeout.\n",
    "\n",
    "The code below opens and reads the dictionary in the JSON file and tries to make requests to the Esselunga online shop website to scrape nutritional information. To do so, first make a valid request from the browser in order to obtain valid cookies and headers for the request."
   ]
  },
  {
   "cell_type": "raw",
   "metadata": {},
   "source": [
    "import json, requests\n",
    "\n",
    "nutrition_facts = json.loads(open('nutrition_facts/nutrition_facts.json', 'r').read())\n",
    "\n",
    "print('Scraping. {} out of {} requests to repeat.'.format(sum([1 for value in nutrition_facts.values() if value == 'repeat']), len(nutrition_facts)))\n",
    "\n",
    "def scrape_nutrition_facts(_id):\n",
    "    # === START COOKIES AND HEADERS ===\n",
    "    \n",
    "    cookies = {}\n",
    "\n",
    "    headers = {}\n",
    "    \n",
    "    # === END COOKIES AND HEADERS ===\n",
    "    \n",
    "    url = 'https://www.esselungaacasa.it/ecommerce/resources/auth/displayable/detail/{}'.format(_id)\n",
    "    \n",
    "    try:\n",
    "        response = requests.get(url, headers=headers, cookies=cookies, timeout=5)\n",
    "    except Exception as e:\n",
    "        return 'repeat'\n",
    "    \n",
    "    if response.status_code == 200:\n",
    "        return json.loads(response.text)\n",
    "    else:\n",
    "        return 'repeat'\n",
    "\n",
    "for _id in nutrition_facts.keys():\n",
    "    if nutrition_facts[_id] == 'repeat':\n",
    "        nutrition_facts[_id] = scrape_nutrition_facts(_id)\n",
    "\n",
    "print('Finished. Remaining: {} out of {} requests to repeat.'.format(sum([1 for value in nutrition_facts.values() if value == 'repeat']), len(nutrition_facts)))\n",
    "        \n",
    "with open('nutrition_facts/nutrition_facts.json', 'w') as f:\n",
    "    f.write(json.dumps(nutrition_facts))"
   ]
  },
  {
   "cell_type": "markdown",
   "metadata": {},
   "source": [
    "## Parse nutrition facts"
   ]
  },
  {
   "cell_type": "code",
   "execution_count": 3,
   "metadata": {
    "scrolled": true
   },
   "outputs": [
    {
     "name": "stdout",
     "output_type": "stream",
     "text": [
      "6179 total entities. 1253 are missing nutrition facts.\n"
     ]
    }
   ],
   "source": [
    "def delete_nutrition_facts_by_id(_id):\n",
    "    nutrition_facts = json.loads(open('nutrition_facts/nutrition_facts.json', 'r').read())\n",
    "    \n",
    "    nutrition_facts.pop(str(_id))\n",
    "    \n",
    "    with open('nutrition_facts/nutrition_facts.json', 'w') as f:\n",
    "        f.write(json.dumps(nutrition_facts))\n",
    "\n",
    "def parse_table(_id):\n",
    "    return pd.read_html(nutrition_facts[_id])[0]\n",
    "\n",
    "def parse_nutrition_facts(nutrition_facts):\n",
    "    # Find tables containing nutritional info.\n",
    "    missing = 0\n",
    "    for _id in nutrition_facts.keys():\n",
    "        found = False\n",
    "        for idx, el in enumerate(nutrition_facts[_id]['informations']):\n",
    "            if 'value' in el and 'Informazioni nutrizionali' in el['value']:\n",
    "                nutrition_facts[_id] = el['value']\n",
    "                found = True\n",
    "                break\n",
    "                    \n",
    "        if not found:\n",
    "            nutrition_facts[_id] = None\n",
    "            missing += 1\n",
    "    \n",
    "    # Fill missing keys with None.\n",
    "    for _id in entities.keys():\n",
    "        if str(_id) not in nutrition_facts:\n",
    "            nutrition_facts[_id] = None\n",
    "            missing += 1\n",
    "            \n",
    "    # Now 'entities' and 'nutrition_facts' have the same keys.\n",
    "    print('{} total entities. {} are missing nutrition facts.'.format(len(nutrition_facts), missing))\n",
    "    \n",
    "    # Convert str keys to int keys\n",
    "    nutrition_facts = { int(_id) : fact for _id, fact in nutrition_facts.items() }\n",
    "    \n",
    "    # Parse raw HTML table and extract data\n",
    "    for _id, html in nutrition_facts.items():\n",
    "    \n",
    "        if html is None:\n",
    "            continue\n",
    "        \n",
    "        # Parse table\n",
    "        table = pd.read_html(html)[0]\n",
    "        \n",
    "        # Identify columns in table: labels ('nutrizionali') and values per 100g\n",
    "        cols_nutrizionali = [col for col in table.columns if 'nutrizionali' in col]\n",
    "        cols_100 = [col for col in table.columns if '100' in col]\n",
    "        \n",
    "        # If either column is not found, forget the nutrition facts for this item\n",
    "        if not cols_nutrizionali:\n",
    "            nutrition_facts[_id] = None\n",
    "            continue\n",
    "        \n",
    "        if not cols_100:\n",
    "            nutrition_facts[_id] = None\n",
    "            continue\n",
    "            \n",
    "        col_nutrizionali = cols_nutrizionali[0]\n",
    "            \n",
    "        # Get calories separately because the corresponding label is not always consistent\n",
    "        # col_100 will be the one where kcal are found\n",
    "        regexes = [r'(\\d+),?\\d*? *kcal', r'kcal *(\\d+)']\n",
    "        matches = pd.DataFrame()\n",
    "        \n",
    "        it = iter([(col, regex) for col in cols_100 for regex in regexes])\n",
    "\n",
    "        col_regex = None\n",
    "        while matches.empty:\n",
    "            try:\n",
    "                col_regex = next(it)\n",
    "            except StopIteration:\n",
    "                break\n",
    "            \n",
    "            matches = table[col_regex[0]].astype(str).str.extract(col_regex[1], flags=re.IGNORECASE).dropna()\n",
    "        \n",
    "        col_100 = col_regex[0]\n",
    "        kcal = int(matches[0].tolist()[0])\n",
    "        \n",
    "        d = {}\n",
    "        d['kcal'] = kcal\n",
    "        \n",
    "        keywords = ['carboidrati', 'zuccheri', 'proteine', 'grassi', 'saturi', 'monoinsaturi', 'polinsaturi', 'fibre', 'sale']\n",
    "        translate = {'carboidrati' : 'carbs',\n",
    "                     'zuccheri': 'sugars',\n",
    "                     'proteine': 'protein',\n",
    "                     'grassi': 'fat',\n",
    "                     'saturi': 'saturated',\n",
    "                     'monoinsaturi': 'monounsat.',\n",
    "                     'polinsaturi': 'polyunsat.',\n",
    "                     'fibre': 'fiber',\n",
    "                     'sale': 'salt'}\n",
    "        \n",
    "        # For each keyword, find it in 'col_nutrizionali' and get the corresponding value in 'col_100'\n",
    "        for keyword in keywords:\n",
    "            found = list(table[table[col_nutrizionali].str.contains(keyword, case=False).fillna(False)][col_100])\n",
    "            \n",
    "            if not found:\n",
    "                continue\n",
    "                \n",
    "            found = found[0]\n",
    "            \n",
    "            if isinstance(found, float) or isinstance(found, int):\n",
    "                d[translate[keyword]] = float(found)\n",
    "                continue\n",
    "\n",
    "            if isinstance(found, str):\n",
    "                found = found.replace(',', '.').strip()\n",
    "            \n",
    "            numeric_const_pattern = '[-+]? (?: (?: \\d* \\. \\d+ ) | (?: \\d+ \\.? ) )(?: [Ee] [+-]? \\d+ ) ?'\n",
    "            rx = re.compile(numeric_const_pattern, re.VERBOSE)\n",
    "            parsed = rx.findall(found)\n",
    "                    \n",
    "            if not parsed:\n",
    "                d[translate[keyword]] = float(0)\n",
    "            else:\n",
    "                d[translate[keyword]] = float(parsed[0])\n",
    "                    \n",
    "        nutrition_facts[_id] = d\n",
    "    \n",
    "    return nutrition_facts\n",
    "\n",
    "nutrition_facts = json.loads(open('nutrition_facts/nutrition_facts.json', 'r').read())\n",
    "nutrition_facts = parse_nutrition_facts(nutrition_facts)"
   ]
  },
  {
   "cell_type": "markdown",
   "metadata": {},
   "source": [
    "## Merge with database"
   ]
  },
  {
   "cell_type": "code",
   "execution_count": 4,
   "metadata": {},
   "outputs": [],
   "source": [
    "# First make sure keys are exactly the same\n",
    "assert set(entities.keys()) == set(nutrition_facts.keys())\n",
    "\n",
    "# Merge things\n",
    "for _id in entities.keys():\n",
    "    \n",
    "    d = nutrition_facts[_id]\n",
    "    \n",
    "    if d is not None:\n",
    "        entities[_id].update(d)"
   ]
  },
  {
   "cell_type": "markdown",
   "metadata": {},
   "source": [
    "## Sanity check"
   ]
  },
  {
   "cell_type": "code",
   "execution_count": 5,
   "metadata": {
    "scrolled": false
   },
   "outputs": [],
   "source": [
    "import math\n",
    "\n",
    "tols = [5.0, 10.0, 20.0, 50.0, 100.0]\n",
    "count = [0, 0, 0, 0, 0]\n",
    "diffs = []\n",
    "\n",
    "for _id, entity in entities.items():\n",
    "    kcal_actual = entity.get('kcal', 0.0)\n",
    "    kcal_calculated = 4 * entity.get('carboidrati', 0.0) + 4 * entity.get('proteine', 0.0) + 9 * entity.get('grassi', 0.0) + 1.5 * entity.get('fibre', 0.0)\n",
    "    \n",
    "    if not math.isnan(kcal_calculated):\n",
    "        diffs.append(abs(kcal_actual - kcal_calculated))\n",
    "    \n",
    "    for i, tol in enumerate(tols):\n",
    "        if not math.isclose(kcal_actual, kcal_calculated, abs_tol=tol):\n",
    "            count[i] += 1"
   ]
  },
  {
   "cell_type": "code",
   "execution_count": 13,
   "metadata": {},
   "outputs": [
    {
     "data": {
      "image/png": "[encoded data removed]",
      "text/plain": [
       "<Figure size 432x288 with 1 Axes>"
      ]
     },
     "metadata": {},
     "output_type": "display_data"
    }
   ],
   "source": [
    "import matplotlib.pyplot as plt\n",
    "\n",
    "plt.plot(tols, count)\n",
    "plt.xlabel('abs_tol')\n",
    "plt.ylabel('count')\n",
    "plt.show()"
   ]
  },
  {
   "cell_type": "markdown",
   "metadata": {},
   "source": [
    "Most products are within 20 calories of the calculated ones.\n",
    "\n",
    "Most of the products which are **not** are _weird candy with polyols_.\n",
    "\n",
    "Some of them are blatant errors though. Let's remove them."
   ]
  },
  {
   "cell_type": "code",
   "execution_count": 7,
   "metadata": {
    "scrolled": true
   },
   "outputs": [
    {
     "data": {
      "image/png": "[encoded data removed]",
      "text/plain": [
       "<Figure size 432x288 with 1 Axes>"
      ]
     },
     "metadata": {},
     "output_type": "display_data"
    }
   ],
   "source": [
    "diffs.sort()\n",
    "plt.plot(diffs[-50:])\n",
    "plt.show()"
   ]
  },
  {
   "cell_type": "code",
   "execution_count": 8,
   "metadata": {},
   "outputs": [],
   "source": [
    "to_remove = [5416230, 5416233, 5399643, 5427633, 5758337, 5417410, 5759062, 5417420, 5410182, 5724116, 5717056, 5409164, 5410135, 5405325, 5381793]\n",
    "\n",
    "for _id in to_remove:\n",
    "    entities.pop(_id)"
   ]
  },
  {
   "cell_type": "markdown",
   "metadata": {},
   "source": [
    "## Add useful data"
   ]
  },
  {
   "cell_type": "code",
   "execution_count": 11,
   "metadata": {},
   "outputs": [],
   "source": [
    "for entity in entities.values():\n",
    "    entity.update( { '€/kcal' : (entity['price_per_kg'] / 10.0) / entity['kcal'] if 'kcal' in entity and entity['kcal'] != 0.0 else 0.0,\n",
    "                     '€/g carb' : (entity['price_per_kg'] / 10.0) / entity['carbs'] if 'carbs' in entity and entity['carbs'] != 0.0 else 0.0,\n",
    "                     '€/g protein' : (entity['price_per_kg'] / 10.0) / entity['protein'] if 'protein' in entity and entity['protein'] != 0.0 else 0.0,\n",
    "                     '€/g fat' : (entity['price_per_kg'] / 10.0) / entity['fat'] if 'fat' in entity and entity['fat'] != 0.0 else 0.0} )"
   ]
  },
  {
   "cell_type": "markdown",
   "metadata": {},
   "source": [
    "## Save to csv"
   ]
  },
  {
   "cell_type": "code",
   "execution_count": 12,
   "metadata": {},
   "outputs": [],
   "source": [
    "df = pd.DataFrame(entities)\n",
    "df = df.transpose()\n",
    "df.to_csv('csv/esselunga.csv')"
   ]
  }
 ],
 "metadata": {
  "kernelspec": {
   "display_name": "Python 3",
   "language": "python",
   "name": "python3"
  },
  "language_info": {
   "codemirror_mode": {
    "name": "ipython",
    "version": 3
   },
   "file_extension": ".py",
   "mimetype": "text/x-python",
   "name": "python",
   "nbconvert_exporter": "python",
   "pygments_lexer": "ipython3",
   "version": "3.6.5"
  }
 },
 "nbformat": 4,
 "nbformat_minor": 2
}
